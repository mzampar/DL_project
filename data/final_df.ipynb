{
 "cells": [
  {
   "cell_type": "code",
   "execution_count": 56,
   "metadata": {},
   "outputs": [],
   "source": [
    "import numpy as np\n",
    "import matplotlib.pyplot as plt\n",
    "import matplotlib.image as mpimg\n",
    "import pandas as pd"
   ]
  },
  {
   "cell_type": "markdown",
   "metadata": {},
   "source": [
    "The idea is that an image contains more rain if there are less grey pixels."
   ]
  },
  {
   "cell_type": "code",
   "execution_count": 63,
   "metadata": {},
   "outputs": [
    {
     "name": "stdout",
     "output_type": "stream",
     "text": [
      "18403\n"
     ]
    }
   ],
   "source": [
    "df = pd.read_csv('id_df_SRI_jpg_radar_1.csv')\n",
    "# Convert 'time' columns to time, format is hour:minute:second\n",
    "df['date_time'] = pd.to_datetime(df['date_time'], format='%Y-%m-%d %H:%M:%S')\n",
    "\n",
    "df['time_diff'] = df.iloc[::-1]['date_time'].diff()\n",
    "\n",
    "print(len(df[df['time_diff'] < pd.Timedelta(minutes=11)]))\n",
    "\n",
    "# add a new column \"sequence\" to divide the dataframe in sequences: \n",
    "# if the index is not consecutive, the sequence changes\n",
    "sequence = 0\n",
    "sequences = []\n",
    "prev_idx = 0\n",
    "\n",
    "for row in df[df['time_diff'] < pd.Timedelta(minutes=11)].itertuples():\n",
    "    if row.Index != prev_idx+1:\n",
    "        sequence += 1\n",
    "    sequences.append(sequence)\n",
    "    prev_idx = row.Index\n",
    "\n",
    "\n",
    "df = None"
   ]
  },
  {
   "cell_type": "code",
   "execution_count": 64,
   "metadata": {},
   "outputs": [],
   "source": [
    "id_df = pd.read_csv(\"id_df_rain.csv\")\n",
    "id_df['sequence'] = sequences"
   ]
  },
  {
   "cell_type": "code",
   "execution_count": 59,
   "metadata": {},
   "outputs": [
    {
     "name": "stdout",
     "output_type": "stream",
     "text": [
      "count     18403.000000\n",
      "mean     176643.576536\n",
      "std       23786.576146\n",
      "min       54082.000000\n",
      "25%      168354.500000\n",
      "50%      186743.000000\n",
      "75%      193173.000000\n",
      "90%      195111.600000\n",
      "95%      195717.000000\n",
      "99%      196148.000000\n",
      "max      196158.000000\n",
      "Name: not_rain_pxl, dtype: float64\n"
     ]
    }
   ],
   "source": [
    "print(id_df[\"not_rain_pxl\"].describe(percentiles=[ .25, .5, .75, .9, .95, .99]))"
   ]
  },
  {
   "cell_type": "code",
   "execution_count": 65,
   "metadata": {},
   "outputs": [],
   "source": [
    "# Define quantile thresholds\n",
    "quantiles = {\n",
    "    \"0% - 25%\": 168358,\n",
    "    \"25% - 50%\": 186743,\n",
    "    \"50% - 75%\": 193173,\n",
    "    \"75% - 95%\": 195112,\n",
    "    \"95% - 100%\": id_df[\"not_rain_pxl\"].max()\n",
    "}\n",
    "\n",
    "# Create a new column 'rain_category' based on quantiles\n",
    "id_df[\"rain_category\"] = pd.cut(\n",
    "    id_df[\"not_rain_pxl\"],\n",
    "    bins=[0, quantiles[\"0% - 25%\"], quantiles[\"25% - 50%\"], quantiles[\"50% - 75%\"], quantiles[\"75% - 95%\"], quantiles[\"95% - 100%\"]],\n",
    "    labels=[4, 3, 2, 1, 0],\n",
    "    include_lowest=True\n",
    ")\n",
    "\n",
    "id_df[\"rain_category\"] = id_df[\"rain_category\"].astype(int)"
   ]
  },
  {
   "cell_type": "code",
   "execution_count": 61,
   "metadata": {},
   "outputs": [
    {
     "name": "stdout",
     "output_type": "stream",
     "text": [
      "            id            date_time  not_rain_pxl  sequence  rain_category\n",
      "0      2457769  2024-10-28 09:10:00        196104         1              0\n",
      "1      2455220  2024-10-26 14:00:00        195786         2              0\n",
      "2      2455200  2024-10-26 13:50:00        195662         2              0\n",
      "3      2455180  2024-10-26 13:40:00        195610         2              0\n",
      "4      2455162  2024-10-26 13:30:00        195463         2              0\n",
      "...        ...                  ...           ...       ...            ...\n",
      "18398  1944353  2024-04-10 14:40:00        173612       277              3\n",
      "18399  1944330  2024-04-10 14:30:00        172840       277              3\n",
      "18400  1944313  2024-04-10 14:20:00        172292       277              3\n",
      "18401  1944297  2024-04-10 14:15:00        176770       277              3\n",
      "18402  1944277  2024-04-10 14:10:00        176442       277              3\n",
      "\n",
      "[18403 rows x 5 columns]\n"
     ]
    }
   ],
   "source": [
    "print(id_df)"
   ]
  },
  {
   "cell_type": "code",
   "execution_count": 73,
   "metadata": {},
   "outputs": [
    {
     "name": "stdout",
     "output_type": "stream",
     "text": [
      "17187\n"
     ]
    }
   ],
   "source": [
    "seq_len = id_df.groupby('sequence').size()\n",
    "\n",
    "id_df = id_df[id_df['sequence'].map(seq_len) > 19]\n",
    "\n",
    "seq_rain = id_df.groupby('sequence')['rain_category'].mean()\n",
    "\n",
    "seq_rain = seq_rain[seq_rain > 0.5]\n",
    "id_df = id_df[id_df['sequence'].isin(seq_rain.index)]\n",
    "\n",
    "# reorder the number of the sequences: if there is a missing number, fill it with the previous number +1\n",
    "id_df['sequence'] = id_df['sequence'].rank(method='dense').astype(int)\n",
    "id_df['sequence'] = id_df['sequence'] - 1\n",
    "\n",
    "print(len(id_df))"
   ]
  },
  {
   "cell_type": "code",
   "execution_count": 74,
   "metadata": {},
   "outputs": [],
   "source": [
    "id_df.to_csv(\"id_df_final.csv\", index=False)"
   ]
  }
 ],
 "metadata": {
  "kernelspec": {
   "display_name": "Python 3",
   "language": "python",
   "name": "python3"
  },
  "language_info": {
   "codemirror_mode": {
    "name": "ipython",
    "version": 3
   },
   "file_extension": ".py",
   "mimetype": "text/x-python",
   "name": "python",
   "nbconvert_exporter": "python",
   "pygments_lexer": "ipython3",
   "version": "3.9.18"
  }
 },
 "nbformat": 4,
 "nbformat_minor": 2
}
