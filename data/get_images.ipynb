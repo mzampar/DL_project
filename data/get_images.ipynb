{
 "cells": [
  {
   "cell_type": "code",
   "execution_count": 3,
   "id": "c9c472ac-7e4f-482e-bf60-e9b6b6c80c44",
   "metadata": {},
   "outputs": [
    {
     "name": "stdout",
     "output_type": "stream",
     "text": [
      "Requirement already satisfied: numpy in /orfeo/cephfs/home/dssc/mzampar/jupyter/lib64/python3.12/site-packages (2.1.2)\n",
      "Requirement already satisfied: matplotlib in /orfeo/cephfs/home/dssc/mzampar/jupyter/lib64/python3.12/site-packages (3.9.2)\n",
      "Collecting pandas\n",
      "  Downloading pandas-2.2.3-cp312-cp312-manylinux_2_17_x86_64.manylinux2014_x86_64.whl.metadata (89 kB)\n",
      "\u001b[2K     \u001b[90m━━━━━━━━━━━━━━━━━━━━━━━━━━━━━━━━━━━━━━━━\u001b[0m \u001b[32m89.9/89.9 kB\u001b[0m \u001b[31m1.7 MB/s\u001b[0m eta \u001b[36m0:00:00\u001b[0ma \u001b[36m0:00:01\u001b[0m\n",
      "\u001b[?25hRequirement already satisfied: contourpy>=1.0.1 in /orfeo/cephfs/home/dssc/mzampar/jupyter/lib64/python3.12/site-packages (from matplotlib) (1.3.0)\n",
      "Requirement already satisfied: cycler>=0.10 in /orfeo/cephfs/home/dssc/mzampar/jupyter/lib/python3.12/site-packages (from matplotlib) (0.12.1)\n",
      "Requirement already satisfied: fonttools>=4.22.0 in /orfeo/cephfs/home/dssc/mzampar/jupyter/lib64/python3.12/site-packages (from matplotlib) (4.54.1)\n",
      "Requirement already satisfied: kiwisolver>=1.3.1 in /orfeo/cephfs/home/dssc/mzampar/jupyter/lib64/python3.12/site-packages (from matplotlib) (1.4.7)\n",
      "Requirement already satisfied: packaging>=20.0 in /orfeo/cephfs/home/dssc/mzampar/jupyter/lib/python3.12/site-packages (from matplotlib) (24.1)\n",
      "Requirement already satisfied: pillow>=8 in /orfeo/cephfs/home/dssc/mzampar/jupyter/lib64/python3.12/site-packages (from matplotlib) (11.0.0)\n",
      "Requirement already satisfied: pyparsing>=2.3.1 in /orfeo/cephfs/home/dssc/mzampar/jupyter/lib/python3.12/site-packages (from matplotlib) (3.2.0)\n",
      "Requirement already satisfied: python-dateutil>=2.7 in /orfeo/cephfs/home/dssc/mzampar/jupyter/lib/python3.12/site-packages (from matplotlib) (2.9.0.post0)\n",
      "Collecting pytz>=2020.1 (from pandas)\n",
      "  Downloading pytz-2024.2-py2.py3-none-any.whl.metadata (22 kB)\n",
      "Collecting tzdata>=2022.7 (from pandas)\n",
      "  Downloading tzdata-2024.2-py2.py3-none-any.whl.metadata (1.4 kB)\n",
      "Requirement already satisfied: six>=1.5 in /orfeo/cephfs/home/dssc/mzampar/jupyter/lib/python3.12/site-packages (from python-dateutil>=2.7->matplotlib) (1.16.0)\n",
      "Downloading pandas-2.2.3-cp312-cp312-manylinux_2_17_x86_64.manylinux2014_x86_64.whl (12.7 MB)\n",
      "\u001b[2K   \u001b[90m━━━━━━━━━━━━━━━━━━━━━━━━━━━━━━━━━━━━━━━━\u001b[0m \u001b[32m12.7/12.7 MB\u001b[0m \u001b[31m32.0 MB/s\u001b[0m eta \u001b[36m0:00:00\u001b[0m:00:01\u001b[0m:01\u001b[0m\n",
      "\u001b[?25hDownloading pytz-2024.2-py2.py3-none-any.whl (508 kB)\n",
      "\u001b[2K   \u001b[90m━━━━━━━━━━━━━━━━━━━━━━━━━━━━━━━━━━━━━━━━\u001b[0m \u001b[32m508.0/508.0 kB\u001b[0m \u001b[31m17.9 MB/s\u001b[0m eta \u001b[36m0:00:00\u001b[0m\n",
      "\u001b[?25hDownloading tzdata-2024.2-py2.py3-none-any.whl (346 kB)\n",
      "\u001b[2K   \u001b[90m━━━━━━━━━━━━━━━━━━━━━━━━━━━━━━━━━━━━━━━━\u001b[0m \u001b[32m346.6/346.6 kB\u001b[0m \u001b[31m9.4 MB/s\u001b[0m eta \u001b[36m0:00:00\u001b[0m:00:01\u001b[0m\n",
      "\u001b[?25hInstalling collected packages: pytz, tzdata, pandas\n",
      "Successfully installed pandas-2.2.3 pytz-2024.2 tzdata-2024.2\n",
      "\n",
      "\u001b[1m[\u001b[0m\u001b[34;49mnotice\u001b[0m\u001b[1;39;49m]\u001b[0m\u001b[39;49m A new release of pip is available: \u001b[0m\u001b[31;49m23.3.2\u001b[0m\u001b[39;49m -> \u001b[0m\u001b[32;49m24.3.1\u001b[0m\n",
      "\u001b[1m[\u001b[0m\u001b[34;49mnotice\u001b[0m\u001b[1;39;49m]\u001b[0m\u001b[39;49m To update, run: \u001b[0m\u001b[32;49mpip install --upgrade pip\u001b[0m\n",
      "Note: you may need to restart the kernel to use updated packages.\n"
     ]
    }
   ],
   "source": [
    "%pip install numpy matplotlib pandas\n",
    "\n",
    "import requests\n",
    "import json\n",
    "import numpy as np\n",
    "import matplotlib.pyplot as plt\n",
    "import matplotlib.image as mpimg\n",
    "import pandas as pd\n",
    "\n",
    "base_url = \"https://monitor.protezionecivile.fvg.it/api\""
   ]
  },
  {
   "cell_type": "code",
   "execution_count": 5,
   "id": "1b5929ca-c621-4909-96a1-9a94e12b6cc7",
   "metadata": {},
   "outputs": [],
   "source": [
    "id_df = pd.read_csv('id_df_SRI_jpg_radar_1.csv')"
   ]
  },
  {
   "cell_type": "code",
   "execution_count": 6,
   "id": "4dd73129-4a1e-4bbd-84ec-36c681da111a",
   "metadata": {},
   "outputs": [
    {
     "name": "stdout",
     "output_type": "stream",
     "text": [
      "            id            date_time\n",
      "0      1991823  2024-04-30 23:30:00\n",
      "1      1991795  2024-04-30 23:00:00\n",
      "2      1991779  2024-04-30 22:30:00\n",
      "3      1991749  2024-04-30 22:00:00\n",
      "4      1991733  2024-04-30 21:30:00\n",
      "...        ...                  ...\n",
      "23214  2394314  2024-10-01 15:30:00\n",
      "23215  2394290  2024-10-01 15:20:00\n",
      "23216  2394270  2024-10-01 15:15:00\n",
      "23217  2394250  2024-10-01 15:10:00\n",
      "23218  2394230  2024-10-01 15:05:00\n",
      "\n",
      "[23219 rows x 2 columns]\n"
     ]
    }
   ],
   "source": [
    "print(id_df)"
   ]
  },
  {
   "cell_type": "code",
   "execution_count": 7,
   "id": "93151b16-8e9e-41bd-a0cb-372fa4c4d46b",
   "metadata": {},
   "outputs": [],
   "source": [
    "def get_image_product(product_id, file_name):\n",
    "    endpoint = f\"/products/{product_id}\"\n",
    "    url = base_url + endpoint\n",
    "    headers = {\n",
    "    \"accept\": \"image/jpeg\",\n",
    "    }\n",
    "    try:\n",
    "        response = requests.get(url, headers=headers)\n",
    "        response.raise_for_status()\n",
    "        with open(file_name, \"wb\") as file:\n",
    "            file.write(response.content)\n",
    "\n",
    "    except requests.exceptions.RequestException as e:\n",
    "        print(f\"An error occurred: {e}\")"
   ]
  },
  {
   "cell_type": "code",
   "execution_count": 8,
   "id": "b5080d1d-e8e5-4440-9218-c29d9c250a8c",
   "metadata": {},
   "outputs": [
    {
     "name": "stdout",
     "output_type": "stream",
     "text": [
      "11455\n"
     ]
    }
   ],
   "source": [
    "# create a new column of the dataframe named \"storm\" and set it to true if the previous image has a time less than 30 minutes\n",
    "# the first image of the dataframe will have the \"storm\" column set to False\n",
    "\n",
    "# Convert 'time' columns to time, format is hour:minute:second\n",
    "id_df['date_time'] = pd.to_datetime(id_df['date_time'], format='%Y-%m-%d %H:%M:%S')\n",
    "\n",
    "id_df['time_diff'] = id_df.iloc[::-1]['date_time'].diff()\n",
    "\n",
    "# Set 'storm' column based on the condition\n",
    "id_df['storm'] = id_df['time_diff'] < pd.Timedelta(minutes=10) # select only images with 5 minutes interval\n",
    "\n",
    "# Set the first row to False since there's no previous row to compare\n",
    "id_df.loc[-1, 'storm'] = False\n",
    "\n",
    "# Drop the 'time_diff' column\n",
    "id_df = id_df.drop(columns='time_diff')\n",
    "\n",
    "print(len(id_df[id_df['storm']]))"
   ]
  },
  {
   "cell_type": "code",
   "execution_count": 11,
   "id": "71d7cb03-58a0-4e82-bc45-1cfd78b7f63a",
   "metadata": {
    "scrolled": true
   },
   "outputs": [
    {
     "name": "stdout",
     "output_type": "stream",
     "text": [
      "Downloaded 0 images\n",
      "Downloaded 100 images\n",
      "Downloaded 200 images\n",
      "Downloaded 300 images\n",
      "Downloaded 400 images\n",
      "Downloaded 500 images\n",
      "Downloaded 600 images\n",
      "Downloaded 700 images\n",
      "Downloaded 800 images\n",
      "Downloaded 900 images\n",
      "Downloaded 1000 images\n",
      "Downloaded 1100 images\n",
      "Downloaded 1200 images\n",
      "Downloaded 1300 images\n",
      "Downloaded 1400 images\n",
      "Downloaded 1500 images\n",
      "Downloaded 1600 images\n",
      "Downloaded 1700 images\n",
      "Downloaded 1800 images\n",
      "Downloaded 1900 images\n",
      "Downloaded 2000 images\n",
      "Downloaded 2100 images\n",
      "Downloaded 2200 images\n",
      "Downloaded 2300 images\n",
      "Downloaded 2400 images\n",
      "Downloaded 2500 images\n",
      "Downloaded 2600 images\n",
      "Downloaded 2700 images\n",
      "Downloaded 2800 images\n",
      "Downloaded 2900 images\n",
      "Downloaded 3000 images\n",
      "Downloaded 3100 images\n",
      "Downloaded 3200 images\n",
      "Downloaded 3300 images\n",
      "Downloaded 3400 images\n",
      "Downloaded 3500 images\n",
      "Downloaded 3600 images\n",
      "Downloaded 3700 images\n",
      "Downloaded 3800 images\n",
      "Downloaded 3900 images\n",
      "Downloaded 4000 images\n",
      "Downloaded 4100 images\n",
      "Downloaded 4200 images\n",
      "Downloaded 4300 images\n",
      "Downloaded 4400 images\n",
      "Downloaded 4500 images\n",
      "Downloaded 4600 images\n",
      "Downloaded 4700 images\n",
      "Downloaded 4800 images\n",
      "Downloaded 4900 images\n",
      "Downloaded 5000 images\n",
      "Downloaded 5100 images\n",
      "Downloaded 5200 images\n",
      "Downloaded 5300 images\n",
      "Downloaded 5400 images\n",
      "Downloaded 5500 images\n",
      "Downloaded 5600 images\n",
      "Downloaded 5700 images\n",
      "Downloaded 5800 images\n",
      "Downloaded 5900 images\n",
      "Downloaded 6000 images\n",
      "Downloaded 6100 images\n",
      "Downloaded 6200 images\n",
      "Downloaded 6300 images\n",
      "Downloaded 6400 images\n",
      "Downloaded 6500 images\n",
      "Downloaded 6600 images\n",
      "Downloaded 6700 images\n",
      "Downloaded 6800 images\n",
      "Downloaded 6900 images\n",
      "Downloaded 7000 images\n",
      "Downloaded 7100 images\n",
      "Downloaded 7200 images\n",
      "Downloaded 7300 images\n",
      "Downloaded 7400 images\n",
      "Downloaded 7500 images\n",
      "Downloaded 7600 images\n",
      "Downloaded 7700 images\n",
      "Downloaded 7800 images\n",
      "Downloaded 7900 images\n",
      "Downloaded 8000 images\n",
      "Downloaded 8100 images\n",
      "Downloaded 8200 images\n",
      "Downloaded 8300 images\n",
      "Downloaded 8400 images\n",
      "Downloaded 8500 images\n",
      "Downloaded 8600 images\n",
      "Downloaded 8700 images\n",
      "Downloaded 8800 images\n",
      "Downloaded 8900 images\n",
      "Downloaded 9000 images\n",
      "Downloaded 9100 images\n",
      "Downloaded 9200 images\n",
      "Downloaded 9300 images\n",
      "Downloaded 9400 images\n",
      "Downloaded 9500 images\n",
      "Downloaded 9600 images\n",
      "Downloaded 9700 images\n",
      "Downloaded 9800 images\n",
      "Downloaded 9900 images\n",
      "Downloaded 10000 images\n",
      "Downloaded 10100 images\n",
      "Downloaded 10200 images\n",
      "Downloaded 10300 images\n",
      "Downloaded 10400 images\n",
      "Downloaded 10500 images\n",
      "Downloaded 10600 images\n",
      "Downloaded 10700 images\n",
      "Downloaded 10800 images\n",
      "Downloaded 10900 images\n",
      "Downloaded 11000 images\n",
      "Downloaded 11100 images\n",
      "Downloaded 11200 images\n",
      "Downloaded 11300 images\n",
      "Downloaded 11400 images\n"
     ]
    }
   ],
   "source": [
    "# download the images \n",
    "i=0\n",
    "for index, row in id_df[id_df['storm']].iterrows():\n",
    "    if i % 100 == 0:\n",
    "        print(f\"Downloaded {i} images\")\n",
    "    get_image_product(row[\"id\"], f\"images/{row[\"id\"]}.jpg\")\n",
    "    i += 1"
   ]
  },
  {
   "cell_type": "code",
   "execution_count": null,
   "id": "f48e9ae6-0eed-4a63-8d23-8a8490f24543",
   "metadata": {},
   "outputs": [],
   "source": []
  }
 ],
 "metadata": {
  "kernelspec": {
   "display_name": "Python 3 (ipykernel)",
   "language": "python",
   "name": "python3"
  },
  "language_info": {
   "codemirror_mode": {
    "name": "ipython",
    "version": 3
   },
   "file_extension": ".py",
   "mimetype": "text/x-python",
   "name": "python",
   "nbconvert_exporter": "python",
   "pygments_lexer": "ipython3",
   "version": "3.12.4"
  }
 },
 "nbformat": 4,
 "nbformat_minor": 5
}
