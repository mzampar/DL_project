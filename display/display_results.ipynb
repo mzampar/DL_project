{
 "cells": [
  {
   "cell_type": "markdown",
   "metadata": {},
   "source": [
    "Here we show how to use our models."
   ]
  },
  {
   "cell_type": "code",
   "execution_count": 5,
   "metadata": {},
   "outputs": [],
   "source": [
    "import pandas as pd\n",
    "import matplotlib.pyplot as plt\n",
    "import os\n",
    "import time\n",
    "import sys\n",
    "\n",
    "# Add the relative path to the system path\n",
    "sys.path.append(os.path.abspath(\"../train_OpenSTL\"))\n",
    "\n",
    "from PIL import Image\n",
    "\n",
    "import torch as th\n",
    "from torch.utils.data import Dataset\n",
    "from torch import nn\n",
    "\n",
    "from ConvLSTM_model import ConvLSTM_Model"
   ]
  },
  {
   "cell_type": "code",
   "execution_count": null,
   "metadata": {},
   "outputs": [],
   "source": [
    "batch_size = 16\n",
    "num_layers = 2\n",
    "num_hidden = [32, 64] \n",
    "custom_model_config = {\n",
    "    'in_shape': [5, 3, 256, 256], # T, C, H, W\n",
    "    'patch_size': 1,\n",
    "    'filter_size': 1, # given to ConvLSTMCell\n",
    "    'stride': 1, # given to ConvLSTMCell\n",
    "    'layer_norm' : False, # given to ConvLSTMCell\n",
    "    # the sum of pre_seq_length and aft_seq_length has to be = len(inputs)\n",
    "    'pre_seq_length': 3,\n",
    "    'aft_seq_length': 2,\n",
    "    'target_seq_length': 5,\n",
    "    'reverse_scheduled_sampling': 0,\n",
    "    'batch_size': batch_size\n",
    "}\n",
    "\n",
    "if th.cuda.is_available():\n",
    "    print(\"CUDA is available!\")\n",
    "else:\n",
    "    print(\"CUDA is not available.\")\n",
    "\n",
    "device = th.device(\"cuda\" if th.cuda.is_available() else \"cpu\")\n",
    "th.cuda.empty_cache()\n",
    "\n",
    "# Instantiate the model\n",
    "input_dim = 3  # Assuming x_train shape is (batch_size, sequence_length, channels, height, width)\n",
    "model = ConvLSTM_Model(num_layers, num_hidden, custom_model_config)\n",
    "\n",
    "# Load the model\n",
    "model.load_state_dict(th.load('../models/model.pth'))"
   ]
  },
  {
   "cell_type": "code",
   "execution_count": 7,
   "metadata": {},
   "outputs": [],
   "source": [
    "# List of frames as PIL Image objects\n",
    "frames = [Image.open('1.JPG'), Image.open('2.JPG'), Image.open('3.JPG'), Image.open('4.JPG')]\n",
    "# Duration sets the display time for each frame in milliseconds\n",
    "# Loop sets the number of loops. Default is 0 and means infinite\n",
    "frames[0].save('output.gif', save_all=True, append_images=frames[1:], duration=1, loop=5)"
   ]
  },
  {
   "cell_type": "code",
   "execution_count": null,
   "metadata": {},
   "outputs": [],
   "source": [
    "# how to display the gif\n",
    "from IPython.display import Image\n",
    "Image(filename='output.gif')"
   ]
  },
  {
   "cell_type": "code",
   "execution_count": null,
   "metadata": {},
   "outputs": [],
   "source": [
    "# how to dispaly 2 gifs horizontally aligned\n",
    "from IPython.display import display\n",
    "from PIL import Image\n"
   ]
  },
  {
   "cell_type": "code",
   "execution_count": null,
   "metadata": {},
   "outputs": [],
   "source": [
    "from IPython.display import HTML\n",
    "\n",
    "# Display two GIFs horizontally aligned with titles on top of each\n",
    "HTML('''\n",
    "    <div style=\"display: flex; justify-content: space-around; align-items: center;\">\n",
    "        <div style=\"text-align: center;\">\n",
    "            <h3>True Sequence</h3>\n",
    "            <img src=\"output.gif\" width=\"300px\">\n",
    "        </div>\n",
    "        <div style=\"text-align: center;\">\n",
    "            <h3>Predicted Sequence</h3>\n",
    "            <img src=\"output.gif\" width=\"300px\">\n",
    "        </div>\n",
    "    </div>\n",
    "''')\n"
   ]
  }
 ],
 "metadata": {
  "kernelspec": {
   "display_name": "Python 3",
   "language": "python",
   "name": "python3"
  },
  "language_info": {
   "codemirror_mode": {
    "name": "ipython",
    "version": 3
   },
   "file_extension": ".py",
   "mimetype": "text/x-python",
   "name": "python",
   "nbconvert_exporter": "python",
   "pygments_lexer": "ipython3",
   "version": "3.9.18"
  }
 },
 "nbformat": 4,
 "nbformat_minor": 2
}
