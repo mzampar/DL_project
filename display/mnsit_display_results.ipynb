{
 "cells": [
  {
   "cell_type": "markdown",
   "metadata": {},
   "source": [
    "Here we show how to use our models."
   ]
  },
  {
   "cell_type": "code",
   "execution_count": null,
   "metadata": {},
   "outputs": [],
   "source": [
    "import pandas as pd\n",
    "import numpy as np\n",
    "import matplotlib.pyplot as plt\n",
    "import os\n",
    "import sys\n",
    "\n",
    "# Add the relative path to the system path\n",
    "sys.path.append(os.path.abspath(\"../train\"))\n",
    "\n",
    "from PIL import Image, ImageDraw, ImageFont, ImageSequence\n",
    "\n",
    "import torch as th\n",
    "import torch.nn as nn\n",
    "from torchvision import transforms\n",
    "\n",
    "from ConvLSTM_model import ConvLSTM_Model\n",
    "from utils import MnistSequenceDataset\n",
    "\n",
    "from IPython.display import Image as IPython_Image"
   ]
  },
  {
   "cell_type": "code",
   "execution_count": 2,
   "metadata": {},
   "outputs": [],
   "source": [
    "# Define function to add a border and title to a PIL image\n",
    "def add_border_and_title(image, title, border_size=10, font_size=20, color=\"white\"):\n",
    "    # Add border\n",
    "    width, height = image.size\n",
    "    new_width = width + 2 * border_size\n",
    "    new_height = height + 2 * border_size + font_size + 5  # Additional space for the title\n",
    "    bordered_image = Image.new(\"RGB\", (new_width, new_height), color=color)\n",
    "    bordered_image.paste(image, (border_size, border_size + font_size + 5))\n",
    "    # Add title text\n",
    "    draw = ImageDraw.Draw(bordered_image)\n",
    "    try:\n",
    "        font = ImageFont.truetype(\"arial.ttf\", font_size)\n",
    "    except IOError:\n",
    "        font = ImageFont.load_default()\n",
    "    draw.text(((new_width-font_size)//4,border_size), title, fill=\"black\", font=font)\n",
    "    return bordered_image"
   ]
  },
  {
   "cell_type": "code",
   "execution_count": null,
   "metadata": {},
   "outputs": [],
   "source": [
    "# function to genrate gif\n",
    "def generate_gif(index, dataset, model, filename, predict):\n",
    "\n",
    "    input_frames = dataset[index][0]\n",
    "    output_frames = dataset[index][1]\n",
    "\n",
    "    input_pil_frames = [transforms.ToPILImage()(frame) for frame in input_frames]\n",
    "    true_pil_frames = [transforms.ToPILImage()(frame) for frame in output_frames]\n",
    "\n",
    "    true_gif_list = input_pil_frames + true_pil_frames\n",
    "    #true_gif_list[0].save(filename, save_all=True, append_images=true_gif_list[1:], duration=10, loop=0)\n",
    "\n",
    "    input_pil_frames = [\n",
    "        add_border_and_title(transforms.ToPILImage()(frame), \"Input Frame\")\n",
    "        for frame in input_frames\n",
    "    ]\n",
    "    true_pil_frames = [\n",
    "        add_border_and_title(transforms.ToPILImage()(frame), \"Target Frame\")\n",
    "        for frame in output_frames\n",
    "    ]\n",
    "\n",
    "    if not predict:\n",
    "        # List of frames as PIL Image objects\n",
    "        # Duration sets the display time for each frame in milliseconds\n",
    "        # Loop sets the number of loops. Default is 0 and means infinite\n",
    "        true_gif_list = input_pil_frames + true_pil_frames\n",
    "        true_gif_list[0].save(\n",
    "            filename, save_all=True, append_images=true_gif_list[1:], duration=1000, loop=0\n",
    "        )\n",
    "    else:\n",
    "        input_frames = input_frames.unsqueeze(0)\n",
    "        mask_true = th.ones_like(input_frames)\n",
    "        predicted_frames = model(input_frames, mask_true, schedule_sampling=False)\n",
    "        input_frames = input_frames.squeeze(0)\n",
    "        predicted_frames = predicted_frames.squeeze(0)\n",
    "        print(predicted_frames.shape)\n",
    "        predicted_pil_frames = [transforms.ToPILImage()(frame) for frame in predicted_frames]\n",
    "\n",
    "        pred_gif_list = input_pil_frames + predicted_pil_frames\n",
    "\n",
    "        predicted_pil_frames = [\n",
    "            add_border_and_title(transforms.ToPILImage()(frame), \"Predicted Frame\", color=\"red\")\n",
    "            for frame in predicted_frames\n",
    "        ]\n",
    "\n",
    "        pred_gif_list = input_pil_frames + predicted_pil_frames\n",
    "        pred_gif_list[0].save(\n",
    "            filename, save_all=True, append_images=pred_gif_list[1:], duration=1000, loop=0\n",
    "        )\n",
    "\n",
    "# function to concatenate gifs\n",
    "def concatenate_gifs_horizontally(gif1_path, gif2_path, output_path):\n",
    "    # Open the two GIFs\n",
    "    gif1 = Image.open(gif1_path)\n",
    "    gif2 = Image.open(gif2_path)\n",
    "    \n",
    "    # Ensure the two GIFs have the same frame count\n",
    "    frames1 = [frame.copy() for frame in ImageSequence.Iterator(gif1)]\n",
    "    frames2 = [frame.copy() for frame in ImageSequence.Iterator(gif2)]\n",
    "    max_frames = max(len(frames1), len(frames2))\n",
    "    \n",
    "    # Repeat frames if necessary to match lengths\n",
    "    frames1 *= (max_frames // len(frames1)) + 1\n",
    "    frames2 *= (max_frames // len(frames2)) + 1\n",
    "    \n",
    "    # Resize to ensure consistent heights\n",
    "    common_height = max(gif1.height, gif2.height)\n",
    "    frames1 = [frame.resize((frame.width, common_height)) for frame in frames1[:max_frames]]\n",
    "    frames2 = [frame.resize((frame.width, common_height)) for frame in frames2[:max_frames]]\n",
    "    \n",
    "    # Concatenate frames horizontally\n",
    "    concatenated_frames = []\n",
    "    for frame1, frame2 in zip(frames1, frames2):\n",
    "        new_width = frame1.width + frame2.width\n",
    "        new_frame = Image.new(\"RGBA\", (new_width, common_height))\n",
    "        new_frame.paste(frame1, (0, 0))\n",
    "        new_frame.paste(frame2, (frame1.width, 0))\n",
    "        concatenated_frames.append(new_frame)\n",
    "    \n",
    "    # Save the concatenated GIF\n",
    "    concatenated_frames[0].save(\n",
    "        output_path,\n",
    "        save_all=True,\n",
    "        append_images=concatenated_frames[1:],\n",
    "        loop=0,\n",
    "        duration=gif1.info.get(\"duration\", 100)\n",
    "    )"
   ]
  },
  {
   "cell_type": "code",
   "execution_count": 3,
   "metadata": {},
   "outputs": [],
   "source": [
    "seq_len = 9\n",
    "data = np.load(\"../data/mnist/mnist_test_seq.npy\").astype(np.float32)/255\n",
    "train_idx = int(data.shape[1] * 0.8)\n",
    "train_dataset = MnistSequenceDataset(data[:,:train_idx], seq_len, seq_len)\n",
    "test_dataset = MnistSequenceDataset(data[:,train_idx:], seq_len, seq_len)"
   ]
  },
  {
   "cell_type": "code",
   "execution_count": 112,
   "metadata": {},
   "outputs": [
    {
     "name": "stdout",
     "output_type": "stream",
     "text": [
      "CUDA is not available.\n"
     ]
    }
   ],
   "source": [
    "batch_size = 1\n",
    "num_hidden = [64,32,32,16]\n",
    "num_layers = len(num_hidden)\n",
    "custom_model_config = {\n",
    "    'in_shape': [1, 64, 64], # C, H, W\n",
    "    'patch_size': 1,\n",
    "    'filter_size': 3, \n",
    "    'stride': 2, \n",
    "    'layer_norm' : True,\n",
    "    'transpose' : True,\n",
    "    'bias' : True,\n",
    "    'leaky_slope' : 0.2,\n",
    "    'max_pool' : True\n",
    "}\n",
    "\n",
    "if th.cuda.is_available():\n",
    "    print(\"CUDA is available!\")\n",
    "else:\n",
    "    print(\"CUDA is not available.\")\n",
    "\n",
    "device = th.device(\"cuda\" if th.cuda.is_available() else \"cpu\")\n",
    "\n",
    "# Instantiate the model\n",
    "input_dim = 3  # Assuming x_train shape is (batch_size, sequence_length, channels, height, width)\n",
    "model = ConvLSTM_Model(num_layers, num_hidden, custom_model_config)"
   ]
  },
  {
   "cell_type": "code",
   "execution_count": 113,
   "metadata": {},
   "outputs": [
    {
     "data": {
      "text/plain": [
       "<All keys matched successfully>"
      ]
     },
     "execution_count": 113,
     "metadata": {},
     "output_type": "execute_result"
    }
   ],
   "source": [
    "# Load the model\n",
    "# Load the state dictionary\n",
    "#model_64_32_32_16_936151.pth BEST MODEL!!!\n",
    "# model_64_32_32_16_938207.pth more blurry\n",
    "# model_64_32_32_16_938214.pth more blurry\n",
    "# model_64_32_32_16_938948.pth doesn't work\n",
    "\n",
    "#model_64_32_32_16_940502.pth works somehow                                          \n",
    "#model_64_32_32_16_940508.pth useless                       \n",
    "#model_64_32_32_16_940509.pth quite good                   \n",
    "#model_64_32_32_16_940510.pth doesn't work\n",
    "\n",
    "state_dict = th.load('../models/model_64_32_32_16_940509.pth', map_location=th.device('cpu'), weights_only=True)\n",
    "\n",
    "# Remove `module.` prefix if it exists\n",
    "new_state_dict = {k.replace(\"module.\", \"\"): v for k, v in state_dict.items()}\n",
    "\n",
    "# Load the adjusted state dict into the model\n",
    "model.load_state_dict(new_state_dict, strict=True)"
   ]
  },
  {
   "cell_type": "markdown",
   "metadata": {},
   "source": [
    "## Check the model on the train set"
   ]
  },
  {
   "cell_type": "code",
   "execution_count": 115,
   "metadata": {},
   "outputs": [
    {
     "name": "stdout",
     "output_type": "stream",
     "text": [
      "torch.Size([9, 1, 64, 64])\n"
     ]
    }
   ],
   "source": [
    "generate_gif(0, train_dataset, model, \"mnist_train_pred.gif\", predict=True)\n",
    "generate_gif(0, train_dataset, model, \"mnist_train_true.gif\", predict=False)\n",
    "concatenate_gifs_horizontally(\"mnist_train_true.gif\", \"mnist_train_pred.gif\", \"mnist_train_comparison.gif\")"
   ]
  },
  {
   "cell_type": "code",
   "execution_count": null,
   "metadata": {},
   "outputs": [
    {
     "data": {
      "image/gif": "[encoded data removed]",
      "text/plain": [
       "<IPython.core.display.Image object>"
      ]
     },
     "execution_count": 109,
     "metadata": {},
     "output_type": "execute_result"
    }
   ],
   "source": [
    "IPython_Image(filename='mnist_train_comparison.gif')"
   ]
  },
  {
   "cell_type": "markdown",
   "metadata": {},
   "source": [
    "## Check the model on the test images"
   ]
  },
  {
   "cell_type": "code",
   "execution_count": 116,
   "metadata": {},
   "outputs": [
    {
     "name": "stdout",
     "output_type": "stream",
     "text": [
      "torch.Size([9, 1, 64, 64])\n"
     ]
    }
   ],
   "source": [
    "generate_gif(1000, test_dataset, model, \"mnist_test_pred.gif\", predict=True)\n",
    "generate_gif(1000, test_dataset, model, \"mnist_test_true.gif\", predict=False)\n",
    "concatenate_gifs_horizontally(\"mnist_test_true.gif\", \"mnist_test_pred.gif\", \"mnist_test_comparison.gif\")"
   ]
  },
  {
   "cell_type": "code",
   "execution_count": 117,
   "metadata": {},
   "outputs": [
    {
     "data": {
      "image/gif": "[encoded data removed]",
      "text/plain": [
       "<IPython.core.display.Image object>"
      ]
     },
     "execution_count": 117,
     "metadata": {},
     "output_type": "execute_result"
    }
   ],
   "source": [
    "IPython_Image(filename='mnist_test_comparison.gif')"
   ]
  }
 ],
 "metadata": {
  "kernelspec": {
   "display_name": "Python 3",
   "language": "python",
   "name": "python3"
  },
  "language_info": {
   "codemirror_mode": {
    "name": "ipython",
    "version": 3
   },
   "file_extension": ".py",
   "mimetype": "text/x-python",
   "name": "python",
   "nbconvert_exporter": "python",
   "pygments_lexer": "ipython3",
   "version": "3.9.18"
  }
 },
 "nbformat": 4,
 "nbformat_minor": 4
}
