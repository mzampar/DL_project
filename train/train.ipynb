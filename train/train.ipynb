{
 "cells": [
  {
   "cell_type": "code",
   "execution_count": 1,
   "metadata": {},
   "outputs": [],
   "source": [
    "import torch\n",
    "from torch.utils.data import Dataset\n",
    "from torch import nn\n",
    "\n",
    "from ConvLSTM_model import ConvLSTM_Model\n",
    "\n",
    "import pandas as pd\n",
    "import os\n",
    "\n",
    "import torch as th\n"
   ]
  },
  {
   "cell_type": "code",
   "execution_count": 2,
   "metadata": {},
   "outputs": [
    {
     "name": "stdout",
     "output_type": "stream",
     "text": [
      "115.44067796610169 118.83333333333333\n",
      "110.87395957733693 86.95027644989202\n",
      "2.150042010724777 2.116623367448169\n",
      "0.8743386816727606 0.9540785561831368\n"
     ]
    },
    {
     "data": {
      "text/plain": [
       "(13622, 5)"
      ]
     },
     "execution_count": 2,
     "metadata": {},
     "output_type": "execute_result"
    }
   ],
   "source": [
    "batch_size = 1\n",
    "\n",
    "# define a dataset\n",
    "\n",
    "id_data = pd.read_csv('../data/id_df_final.csv')\n",
    "\n",
    "seq_len = id_data.groupby('sequence').size()\n",
    "seq_len = seq_len.to_dict()\n",
    "seq_rain = id_data.groupby('sequence')['rain_category'].mean()\n",
    "seq_rain = seq_rain.to_dict()\n",
    "\n",
    "seq_df = pd.DataFrame({'seq_len': seq_len, 'seq_rain': seq_rain})\n",
    "\n",
    "# split the sequences in train and test set (80/20)\n",
    "train_seq = seq_df.sample(frac=0.8, random_state=1)\n",
    "test_seq = seq_df.drop(train_seq.index)\n",
    "\n",
    "print(train_seq['seq_len'].mean(), test_seq['seq_len'].mean())\n",
    "print(train_seq['seq_len'].std(), test_seq['seq_len'].std())\n",
    "print(train_seq['seq_rain'].mean(), test_seq['seq_rain'].mean())\n",
    "print(train_seq['seq_rain'].std(), test_seq['seq_rain'].std())\n",
    "\n",
    "# get the sequences of the train and test set\n",
    "train_seq_idx = train_seq.index\n",
    "test_seq_idx = test_seq.index\n",
    "\n",
    "train_data = id_data[id_data['sequence'].isin(train_seq_idx)]\n",
    "train_data.shape\n"
   ]
  },
  {
   "cell_type": "code",
   "execution_count": 3,
   "metadata": {},
   "outputs": [
    {
     "data": {
      "text/plain": [
       "((11145, 21), (2936, 21))"
      ]
     },
     "execution_count": 3,
     "metadata": {},
     "output_type": "execute_result"
    }
   ],
   "source": [
    "dataset = pd.read_csv('../data/id_seq_dataset.csv')\n",
    "train_data = dataset[dataset['seq_id'].isin(train_seq_idx)]\n",
    "test_data = dataset[dataset['seq_id'].isin(test_seq_idx)]\n",
    "train_data.shape, test_data.shape"
   ]
  },
  {
   "cell_type": "code",
   "execution_count": 24,
   "metadata": {},
   "outputs": [],
   "source": [
    "class SequenceDataset(th.utils.data.Dataset):\n",
    "    def __init__(self, input_data, tensor_dir, k_in=10, k_out=10):\n",
    "        self.input_data = input_data\n",
    "        self.tensor_dir = tensor_dir\n",
    "        self.k_in = k_in # Number of frames to be considered\n",
    "        self.k_out = k_out\n",
    "\n",
    "    def __getitem__(self, index):\n",
    "        # Get the row using the index\n",
    "        row = self.input_data.iloc[index]\n",
    "        # Get the sequence\n",
    "        in_seq = row.iloc[:self.k_in]\n",
    "        in_seq_tensor = th.stack([th.load(os.path.join(self.tensor_dir, f\"tensor_{frame}.pt\")) for frame in in_seq])\n",
    "        out_seq = row.iloc[self.k_in+1:]\n",
    "        out_seq_tensor = th.stack([th.load(os.path.join(self.tensor_dir, f\"tensor_{frame}.pt\")) for frame in out_seq])\n",
    "\n",
    "        return in_seq_tensor, out_seq_tensor\n",
    "\n",
    "    def __len__(self):\n",
    "        return self.input_data.shape[0]\n",
    "    \n",
    "train_dataset = SequenceDataset(train_data, '../../fast/tensor/')\n",
    "test_dataset = SequenceDataset(test_data, '../../fast/tensor/')"
   ]
  },
  {
   "cell_type": "code",
   "execution_count": 25,
   "metadata": {},
   "outputs": [],
   "source": [
    "num_layers = 4\n",
    "num_hidden = [32, 64, 128, 128] \n",
    "\n",
    "custom_model_config = {\n",
    "    'in_shape': [1, 3, 256, 256], # T, C, H, W\n",
    "    'patch_size': 1,\n",
    "    'filter_size': 1, # given to ConvLSTMCell\n",
    "    'stride': 1, # given to ConvLSTMCell\n",
    "    'layer_norm' : False # given to ConvLSTMCell\n",
    "}"
   ]
  },
  {
   "cell_type": "code",
   "execution_count": 26,
   "metadata": {},
   "outputs": [],
   "source": [
    "# Instantiate the model\n",
    "input_dim = 3  # Assuming x_train shape is (batch_size, sequence_length, channels, height, width)\n",
    "model = ConvLSTM_Model(num_layers, num_hidden, custom_model_config)\n",
    "\n",
    "dataloader = th.utils.data.DataLoader(train_dataset, batch_size=64, shuffle=True)\n",
    "test_dataloader = th.utils.data.DataLoader(test_dataset, batch_size=64, shuffle=False)\n",
    "\n",
    "# Define loss and optimizer\n",
    "criterion = nn.MSELoss()\n",
    "optimizer = th.optim.Adam(model.parameters())\n",
    "\n",
    "device = th.device(\"cuda\" if th.cuda.is_available() else \"cpu\")"
   ]
  },
  {
   "cell_type": "code",
   "execution_count": 27,
   "metadata": {},
   "outputs": [
    {
     "name": "stdout",
     "output_type": "stream",
     "text": [
      "175\n"
     ]
    }
   ],
   "source": [
    "print(len(dataloader)) # number of batches"
   ]
  },
  {
   "cell_type": "code",
   "execution_count": null,
   "metadata": {},
   "outputs": [],
   "source": [
    "# Training loop\n",
    "num_epochs = 10  # Set the number of epochs\n",
    "\n",
    "# Lists to keep track of the losses for each epoch\n",
    "train_losses = []\n",
    "test_losses = []\n",
    "\n",
    "for epoch in range(num_epochs):\n",
    "    # Training phase\n",
    "    model.train()\n",
    "    running_loss = 0.0\n",
    "    for batch_idx, (inputs, targets) in enumerate(dataloader):\n",
    "        # Move data to device (GPU if available)\n",
    "        inputs, targets = inputs.to(device), targets.to(device)\n",
    "        # Zero the parameter gradients\n",
    "        optimizer.zero_grad()\n",
    "        # Forward pass\n",
    "        outputs = model(inputs)\n",
    "        # Compute loss\n",
    "        loss = criterion(outputs, targets)\n",
    "        # Backward pass and optimize\n",
    "        loss.backward()\n",
    "        optimizer.step()\n",
    "        # Accumulate loss\n",
    "        running_loss += loss.item()\n",
    "        \n",
    "        # Print training info every 10 batches\n",
    "        if batch_idx % 10 == 0:\n",
    "            print(f\"Epoch [{epoch+1}/{num_epochs}], Batch [{batch_idx+1}], Loss: {loss.item():.4f}\")\n",
    "\n",
    "    # Calculate and store the average training loss for this epoch\n",
    "    epoch_train_loss = running_loss / len(dataloader)\n",
    "    train_losses.append(epoch_train_loss)\n",
    "    print(f\"Epoch [{epoch+1}/{num_epochs}] - Average Train Loss: {epoch_train_loss:.4f}\")\n",
    "\n",
    "    # Validation (test) phase\n",
    "    model.eval()\n",
    "    test_loss = 0.0\n",
    "    with torch.no_grad():  # No gradients needed for testing\n",
    "        for batch_idx, (inputs, targets) in enumerate(test_dataloader):\n",
    "            inputs, targets = inputs.to(device), targets.to(device)\n",
    "            outputs = model(inputs)\n",
    "            loss = criterion(outputs, targets)\n",
    "            test_loss += loss.item()\n",
    "\n",
    "    # Calculate and store the average test loss for this epoch\n",
    "    epoch_test_loss = test_loss / len(test_dataloader)  # Using len(test_dataloader) for batch average\n",
    "    test_losses.append(epoch_test_loss)\n",
    "    print(f\"Epoch [{epoch+1}/{num_epochs}] - Average Test Loss: {epoch_test_loss:.4f}\")\n",
    "\n",
    "print(\"Training complete!\")"
   ]
  },
  {
   "cell_type": "code",
   "execution_count": null,
   "metadata": {},
   "outputs": [],
   "source": [
    "torch.save(model.state_dict(), \"../models/model.pth\")"
   ]
  },
  {
   "cell_type": "code",
   "execution_count": null,
   "metadata": {},
   "outputs": [],
   "source": [
    "model = ConvLSTM_Model(num_layers, num_hidden, custom_model_config)\n",
    "model.load_state_dict(torch.load(\"model_weights.pth\"))\n",
    "model.eval()"
   ]
  }
 ],
 "metadata": {
  "kernelspec": {
   "display_name": "Python 3",
   "language": "python",
   "name": "python3"
  },
  "language_info": {
   "codemirror_mode": {
    "name": "ipython",
    "version": 3
   },
   "file_extension": ".py",
   "mimetype": "text/x-python",
   "name": "python",
   "nbconvert_exporter": "python",
   "pygments_lexer": "ipython3",
   "version": "3.9.18"
  }
 },
 "nbformat": 4,
 "nbformat_minor": 2
}
