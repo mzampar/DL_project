{
 "cells": [
  {
   "cell_type": "code",
   "execution_count": null,
   "metadata": {},
   "outputs": [],
   "source": [
    "import torch as th\n",
    "from torch.utils.data import Dataset\n",
    "from torch import nn\n",
    "\n",
    "from ConvLSTM_model import ConvLSTM_Model\n",
    "from utils import SequenceDataset, SSIM_MSE_Loss\n",
    "\n",
    "import pandas as pd\n",
    "import os"
   ]
  },
  {
   "cell_type": "code",
   "execution_count": 2,
   "metadata": {},
   "outputs": [
    {
     "name": "stdout",
     "output_type": "stream",
     "text": [
      "115.44067796610169 118.83333333333333\n",
      "110.87395957733693 86.95027644989202\n",
      "2.150042010724777 2.116623367448169\n",
      "0.8743386816727606 0.9540785561831368\n"
     ]
    },
    {
     "data": {
      "text/plain": [
       "(3565, 5)"
      ]
     },
     "execution_count": 2,
     "metadata": {},
     "output_type": "execute_result"
    }
   ],
   "source": [
    "# define a dataset\n",
    "\n",
    "id_data = pd.read_csv('../data/id_df_final.csv')\n",
    "\n",
    "seq_len = id_data.groupby('sequence').size()\n",
    "seq_len = seq_len.to_dict()\n",
    "seq_rain = id_data.groupby('sequence')['rain_category'].mean()\n",
    "seq_rain = seq_rain.to_dict()\n",
    "\n",
    "seq_df = pd.DataFrame({'seq_len': seq_len, 'seq_rain': seq_rain})\n",
    "\n",
    "# split the sequences in train and test set (80/20)\n",
    "train_seq = seq_df.sample(frac=0.8, random_state=1)\n",
    "test_seq = seq_df.drop(train_seq.index)\n",
    "\n",
    "print(train_seq['seq_len'].mean(), test_seq['seq_len'].mean())\n",
    "print(train_seq['seq_len'].std(), test_seq['seq_len'].std())\n",
    "print(train_seq['seq_rain'].mean(), test_seq['seq_rain'].mean())\n",
    "print(train_seq['seq_rain'].std(), test_seq['seq_rain'].std())\n",
    "\n",
    "# get the sequences of the train and test set\n",
    "train_seq_idx = train_seq.index\n",
    "test_seq_idx = test_seq.index\n",
    "\n",
    "train_data = id_data[id_data['sequence'].isin(train_seq_idx)]\n",
    "train_data.shape\n",
    "\n",
    "test_data = id_data[id_data['sequence'].isin(test_seq_idx)]\n",
    "test_data.shape\n"
   ]
  },
  {
   "cell_type": "code",
   "execution_count": 3,
   "metadata": {},
   "outputs": [],
   "source": [
    "id_data = None\n",
    "seq_len = None\n",
    "seq_rain = None\n",
    "seq_df = None\n",
    "train_seq = None\n",
    "test_seq = None\n",
    "train_seq_idx = None\n",
    "test_seq_idx = None"
   ]
  },
  {
   "cell_type": "code",
   "execution_count": null,
   "metadata": {},
   "outputs": [
    {
     "name": "stdout",
     "output_type": "stream",
     "text": [
      "CUDA is available!\n"
     ]
    }
   ],
   "source": [
    "# model\n",
    "filter_size = 5\n",
    "stride = 1\n",
    "patch_size = 2\n",
    "layer_norm = 0\n",
    "\n",
    "num_hidden = [32, 16, 16, 32]\n",
    "num_layers = len(num_hidden)\n",
    "\n",
    "custom_model_config = {\n",
    "    'in_shape': [1, 128, 128], # T, C, H, W\n",
    "    'patch_size': 1,\n",
    "    'filter_size': 1, # given to ConvLSTMCell\n",
    "    'stride': 1, # given to ConvLSTMCell\n",
    "    'layer_norm' : False, # given to ConvLSTMCell\n",
    "    # the sum of pre_seq_length and aft_seq_length has to be = len(inputs)\n",
    "    'reverse_scheduled_sampling': 0\n",
    "}\n",
    "\n",
    "if th.cuda.is_available():\n",
    "    print(\"CUDA is available!\")\n",
    "else:\n",
    "    print(\"CUDA is not available.\")\n",
    "\n",
    "device = th.device(\"cuda\" if th.cuda.is_available() else \"cpu\")\n",
    "th.cuda.empty_cache()\n",
    "\n",
    "# Instantiate the model\n",
    "# Assuming x_train shape is (batch_size, sequence_length, channels, height, width)\n",
    "model = ConvLSTM_Model(num_layers, num_hidden, custom_model_config, schedule_sampling=False)\n",
    "model = nn.DataParallel(model)\n",
    "model.to(device)\n",
    "# Define loss and optimizer\n",
    "criterion = nn.MSELoss()\n",
    "criterion = SSIM_MSE_Loss(alpha=0.5)\n",
    "optimizer = th.optim.Adam(model.parameters())"
   ]
  },
  {
   "cell_type": "code",
   "execution_count": null,
   "metadata": {},
   "outputs": [
    {
     "name": "stdout",
     "output_type": "stream",
     "text": [
      "Training with sequence length 2\n",
      "Epoch [1/1], Batch [1], Loss: 0.2548\n",
      "Epoch [1/1], Batch [11], Loss: 0.2535\n",
      "Epoch [1/1], Batch [21], Loss: 0.2489\n",
      "Epoch [1/1], Batch [31], Loss: 0.2281\n",
      "Epoch [1/1], Batch [41], Loss: 0.1995\n",
      "Epoch [1/1], Batch [51], Loss: 0.1113\n",
      "Epoch [1/1], Batch [61], Loss: 0.0730\n",
      "Epoch [1/1], Batch [71], Loss: 0.0562\n",
      "Epoch [1/1], Batch [81], Loss: 0.0551\n",
      "Epoch [1/1], Batch [91], Loss: 0.0506\n",
      "Epoch [1/1], Batch [101], Loss: 0.0456\n",
      "Epoch [1/1], Batch [111], Loss: 0.0432\n",
      "Epoch [1/1], Batch [121], Loss: 0.0382\n",
      "Epoch [1/1] - Average Train Loss: 0.1237\n"
     ]
    }
   ],
   "source": [
    "# Loop over the dataset multiple times, with different sequence lengths to avoid the vanishing gradient problem\n",
    "train_losses_out = []\n",
    "test_losses_out = []\n",
    "\n",
    "for seq_len in range(2, 11):\n",
    "    th.cuda.empty_cache()\n",
    "    print(f\"Training with sequence length {seq_len}\")\n",
    "    \n",
    "    train_dataset = SequenceDataset(train_data, '../../scratch/grey_tensor/', seq_len, seq_len)\n",
    "    test_dataset = SequenceDataset(test_data, '../../scratch/grey_tensor/', seq_len, seq_len)\n",
    "    dataloader = th.utils.data.DataLoader(train_dataset, batch_size=32, shuffle=True)\n",
    "    test_dataloader = th.utils.data.DataLoader(test_dataset, batch_size=32, shuffle=False)\n",
    "\n",
    "    # Training loop\n",
    "    num_epochs = 1  # Set the number of epochs\n",
    "    # Lists to keep track of the losses for each epoch\n",
    "    train_losses = []\n",
    "    test_losses = []\n",
    "\n",
    "    for epoch in range(num_epochs):\n",
    "        # Training phase\n",
    "        model.train()\n",
    "        running_loss = 0.0\n",
    "        for batch_idx, (inputs, targets) in enumerate(dataloader):\n",
    "            # Move data to device (GPU if available)\n",
    "            inputs, targets = inputs.to(device), targets.to(device)\n",
    "            # Zero the parameter gradients\n",
    "            optimizer.zero_grad()\n",
    "            # Forward pass\n",
    "            outputs = model(frames_tensor=inputs, mask_true=th.ones_like(inputs), schedule_sampling=False)\n",
    "            # Compute loss\n",
    "            loss = criterion(outputs, targets)\n",
    "            # Backward pass and optimize\n",
    "            loss.backward()\n",
    "            optimizer.step()\n",
    "            # Accumulate loss\n",
    "            running_loss += loss.item()\n",
    "            \n",
    "            # Print training info every 10 batches\n",
    "            if batch_idx % 10 == 0:\n",
    "                print(f\"Epoch [{epoch+1}/{num_epochs}], Batch [{batch_idx+1}], Loss: {loss.item():.4f}\")\n",
    "            del outputs, loss, inputs, targets\n",
    "            th.cuda.empty_cache()\n",
    "\n",
    "        # Calculate and store the average training loss for this epoch\n",
    "        epoch_train_loss = running_loss / len(dataloader)\n",
    "        train_losses.append(epoch_train_loss)\n",
    "        print(f\"Epoch [{epoch+1}/{num_epochs}] - Average Train Loss: {epoch_train_loss:.4f}\")\n",
    "\n",
    "        # Validation (test) phase\n",
    "        model.eval()\n",
    "        test_loss = 0.0\n",
    "        with th.no_grad():  # No gradients needed for testing\n",
    "            for batch_idx, (inputs, targets) in enumerate(test_dataloader):\n",
    "                inputs, targets = inputs.to(device), targets.to(device)\n",
    "                outputs = model(frames_tensor=inputs, mask_true=th.ones_like(inputs), schedule_sampling=False)\n",
    "                loss = criterion(outputs, targets)\n",
    "                test_loss += loss.item()\n",
    "\n",
    "        # Calculate and store the average test loss for this epoch\n",
    "        epoch_test_loss = test_loss / len(test_dataloader)  # Using len(test_dataloader) for batch average\n",
    "        test_losses.append(epoch_test_loss)\n",
    "        print(f\"Epoch [{epoch+1}/{num_epochs}] - Average Test Loss: {epoch_test_loss:.4f}\")\n",
    "    \n",
    "    # Store the losses for this sequence length\n",
    "    train_losses_out.append(train_losses)\n",
    "    test_losses_out.append(test_losses)\n",
    "\n",
    "print(\"Training complete!\")"
   ]
  },
  {
   "cell_type": "code",
   "execution_count": null,
   "metadata": {},
   "outputs": [],
   "source": [
    "torch.save(model.state_dict(), \"../models/model.pth\")"
   ]
  },
  {
   "cell_type": "code",
   "execution_count": null,
   "metadata": {},
   "outputs": [],
   "source": []
  }
 ],
 "metadata": {
  "kernelspec": {
   "display_name": "Python 3",
   "language": "python",
   "name": "python3"
  },
  "language_info": {
   "codemirror_mode": {
    "name": "ipython",
    "version": 3
   },
   "file_extension": ".py",
   "mimetype": "text/x-python",
   "name": "python",
   "nbconvert_exporter": "python",
   "pygments_lexer": "ipython3",
   "version": "3.9.18"
  }
 },
 "nbformat": 4,
 "nbformat_minor": 4
}
