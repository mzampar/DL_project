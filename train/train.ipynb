{
 "cells": [
  {
   "cell_type": "markdown",
   "metadata": {},
   "source": [
    "It is clear that to train this kind of models we need contiguous in time images.\n",
    "We need to figure out a nice way to do this, we cannot simply take the \\(k\\) previous images because there are some temporal holes between a rainfall and another.\n",
    "We could give an id to the storms, divide in sequences the storms, which means that when we meet 2 images that are more than 5 minutes temporally spaced we consider the 2 images belonging to different storms. then, in training and choosing epochs we choose randomly one storm and randomly again we choose \\(k\\) contiguous images of that storm to predict the \\(k\\)-th."
   ]
  },
  {
   "cell_type": "code",
   "execution_count": 1,
   "metadata": {},
   "outputs": [],
   "source": [
    "import requests\n",
    "import json\n",
    "import h5py\n",
    "import numpy as np\n",
    "import matplotlib.pyplot as plt\n",
    "import matplotlib.image as mpimg\n",
    "import pandas as pd"
   ]
  },
  {
   "cell_type": "code",
   "execution_count": 6,
   "metadata": {},
   "outputs": [
    {
     "name": "stdout",
     "output_type": "stream",
     "text": [
      "18408\n"
     ]
    }
   ],
   "source": [
    "id_df = pd.read_csv('../data/id_df_SRI_jpg_radar_1.csv')\n",
    "\n",
    "# Convert 'time' columns to time, format is hour:minute:second\n",
    "id_df['date_time'] = pd.to_datetime(id_df['date_time'], format='%Y-%m-%d %H:%M:%S')\n",
    "\n",
    "id_df['time_diff'] = id_df.iloc[::-1]['date_time'].diff()\n",
    "\n",
    "# Set 'storm' column based on the condition\n",
    "id_df['storm'] = id_df['time_diff'] < pd.Timedelta(minutes=11) # select only images with 5 minutes interval\n",
    "\n",
    "# Set the first row to False since there's no previous row to compare\n",
    "id_df.loc[-1, 'storm'] = False\n",
    "\n",
    "# Drop the 'time_diff' column\n",
    "id_df = id_df.drop(columns='time_diff')\n",
    "\n",
    "print(len(id_df[id_df['storm']]))"
   ]
  },
  {
   "cell_type": "code",
   "execution_count": 8,
   "metadata": {},
   "outputs": [],
   "source": [
    "base_url = \"https://monitor.protezionecivile.fvg.it/api\"\n",
    "\n",
    "def get_image_product(product_id, file_name):\n",
    "    endpoint = f\"/products/{product_id}\"\n",
    "    url = base_url + endpoint\n",
    "    headers = {\n",
    "    \"accept\": \"image/jpeg\",\n",
    "    }\n",
    "    try:\n",
    "        response = requests.get(url, headers=headers)\n",
    "        response.raise_for_status()\n",
    "        with open(file_name, \"wb\") as file:\n",
    "            file.write(response.content)\n",
    "\n",
    "    except requests.exceptions.RequestException as e:\n",
    "        print(f\"An error occurred: {e}\")"
   ]
  },
  {
   "cell_type": "code",
   "execution_count": 15,
   "metadata": {},
   "outputs": [],
   "source": [
    "get_image_product(1990053, \"../data/images/1990053.jpg\")"
   ]
  },
  {
   "cell_type": "code",
   "execution_count": null,
   "metadata": {},
   "outputs": [],
   "source": [
    "pd.set_option('display.max_rows', None)\n",
    "\n",
    "id_df_storm = id_df[id_df['storm']]\n",
    "display(id_df_storm)"
   ]
  }
 ],
 "metadata": {
  "kernelspec": {
   "display_name": "Python 3",
   "language": "python",
   "name": "python3"
  },
  "language_info": {
   "codemirror_mode": {
    "name": "ipython",
    "version": 3
   },
   "file_extension": ".py",
   "mimetype": "text/x-python",
   "name": "python",
   "nbconvert_exporter": "python",
   "pygments_lexer": "ipython3",
   "version": "3.9.18"
  }
 },
 "nbformat": 4,
 "nbformat_minor": 2
}
